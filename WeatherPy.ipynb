{
 "cells": [
  {
   "cell_type": "markdown",
   "metadata": {},
   "source": [
    "# WeatherPy\n",
    "----\n",
    "\n",
    "#### Note\n",
    "* Instructions have been included for each segment. You do not have to follow them exactly, but they are included to help you think through the steps."
   ]
  },
  {
   "cell_type": "code",
   "execution_count": null,
   "metadata": {
    "scrolled": true
   },
   "outputs": [],
   "source": [
    "# Dependencies and Setup\n",
    "import matplotlib.pyplot as plt\n",
    "import pandas as pd\n",
    "import numpy as np\n",
    "import requests\n",
    "import time\n",
    "from scipy.stats import linregress, pearsonr\n",
    "import csv\n",
    "\n",
    "# Import API key\n",
    "from api_keys import weather_api_key\n",
    "\n",
    "# Incorporated citipy to determine city based on latitude and longitude\n",
    "from citipy import citipy\n",
    "\n",
    "# Output File (CSV)\n",
    "output_data_file = \"output_data/cities.csv\"\n",
    "\n",
    "# Range of latitudes and longitudes\n",
    "lat_range = (-90, 90)\n",
    "lng_range = (-180, 180)"
   ]
  },
  {
   "cell_type": "markdown",
   "metadata": {},
   "source": [
    "## Generate Cities List"
   ]
  },
  {
   "cell_type": "code",
   "execution_count": null,
   "metadata": {},
   "outputs": [],
   "source": [
    "# List for holding lat_lngs and cities\n",
    "lat_lngs = []\n",
    "cities = []\n",
    "\n",
    "# Create a set of random lat and lng combinations\n",
    "lats = np.random.uniform(lat_range[0], lat_range[1], size=1500)\n",
    "lngs = np.random.uniform(lng_range[0], lng_range[1], size=1500)\n",
    "lat_lngs = zip(lats, lngs)\n",
    "\n",
    "# Identify nearest city for each lat, lng combination\n",
    "for lat_lng in lat_lngs:\n",
    "    city = citipy.nearest_city(lat_lng[0], lat_lng[1]).city_name\n",
    "    \n",
    "    # If the city is unique, then add it to a our cities list\n",
    "    if city not in cities:\n",
    "        cities.append(city)\n",
    "\n",
    "# Print the city count to confirm sufficient count\n",
    "len(cities)"
   ]
  },
  {
   "cell_type": "code",
   "execution_count": null,
   "metadata": {},
   "outputs": [],
   "source": [
    "# print(cities)"
   ]
  },
  {
   "cell_type": "markdown",
   "metadata": {},
   "source": [
    "### Perform API Calls\n",
    "* Perform a weather check on each city using a series of successive API calls.\n",
    "* Include a print log of each city as it'sbeing processed (with the city number and city name).\n"
   ]
  },
  {
   "cell_type": "code",
   "execution_count": null,
   "metadata": {
    "scrolled": true
   },
   "outputs": [],
   "source": [
    "url = \"http://api.openweathermap.org/data/2.5/weather?\"\n",
    "units = \"imperial\"\n",
    "\n",
    "query_url = f\"{url}appid={weather_api_key}&units={units}&q=\"\n",
    "\n",
    "City = []\n",
    "Cloudiness = []\n",
    "Country = []\n",
    "Date = []\n",
    "Humidity = []\n",
    "Lat = []\n",
    "Lng = []\n",
    "Max_Temp = []\n",
    "Wind_Speed = []\n",
    "\n",
    "print(\"Retrieving Data\")\n",
    "print(\"-----------------\")\n",
    "\n",
    "x=0\n",
    "# y=1\n",
    "for city in cities:\n",
    "    try:\n",
    "        city_query_url = query_url + city\n",
    "        x=x+1\n",
    "        print(f\"Retrieving Record {x} | {city}\")\n",
    "    #     print(city_query_url)\n",
    "        data = requests.get(city_query_url).json()\n",
    "    #     print(data)\n",
    "\n",
    "        #assign temporary values\n",
    "        cn = data[\"name\"]\n",
    "        cloud = data[\"clouds\"][\"all\"]\n",
    "        ctry = data[\"sys\"][\"country\"]\n",
    "        dt = data[\"dt\"]\n",
    "        hm = data[\"main\"][\"humidity\"]\n",
    "        lt = data[\"coord\"][\"lat\"]\n",
    "        ln = data[\"coord\"][\"lon\"]\n",
    "        mt = data[\"main\"][\"temp_max\"]\n",
    "        ws = data[\"wind\"][\"speed\"]\n",
    "    \n",
    "    \n",
    "\n",
    "        \n",
    "        City.append(cn)\n",
    "        Cloudiness.append(cloud)\n",
    "        Country.append(ctry)\n",
    "        Date.append(dt)\n",
    "        Humidity.append(hm)\n",
    "        Lat.append(lt)\n",
    "        Lng.append(ln)\n",
    "        Max_Temp.append(mt)\n",
    "        Wind_Speed.append(ws)\n",
    "        \n",
    "    except KeyError:\n",
    "        print(f\"City not available... skip!\")\n",
    "        \n",
    "print(\"-----------------\")\n",
    "print(\"Retrival Compete\")"
   ]
  },
  {
   "cell_type": "code",
   "execution_count": null,
   "metadata": {},
   "outputs": [],
   "source": [
    "#   name = data[\"name\"]\n",
    "#   print(name)\n",
    "    \n",
    "\n",
    "# query_params = {\n",
    "#     \"appid\": weather_api_key,\n",
    "#     \"q\": city,\n",
    "#     \"units\": units\n",
    "# }\n",
    "# weather_response = requests.get(url, params=query_params)\n",
    "# weather_json = weather_response.json() \n",
    "# print(Cloudiness)"
   ]
  },
  {
   "cell_type": "markdown",
   "metadata": {},
   "source": [
    "### Convert Raw Data to DataFrame\n",
    "* Export the city data into a .csv.\n",
    "* Display the DataFrame"
   ]
  },
  {
   "cell_type": "code",
   "execution_count": null,
   "metadata": {},
   "outputs": [],
   "source": [
    "# base = {\"City\": [], \"Cloudiness\": [], \"Country\": [], \"Date\": [], \"Humidity\": [], \"Lat\": [],\n",
    "#      \"Lng\": [], \"Max Temp\": [], \"Wind Speed\":[]}\n",
    "# cities_df = pd.DataFrame(data=base)\n",
    "# cities_df\n",
    "weather_df = pd.DataFrame({\"City\": City, \"Cloudiness\": Cloudiness, \"Country\": Country, \"Date\": Date, \"Humidity\": Humidity, \"Latitude\":  Lat, \"Longitude\":  Lng, \"Max Temp\": Max_Temp, \"Wind Speed\": Wind_Speed})\n",
    "\n",
    "weather_df[\"Date\"] = pd.to_datetime(weather_df[\"Date\"], unit = \"s\")\n",
    "\n",
    "weather_df.to_csv(\"city_output.csv\")\n",
    "\n",
    "weather_df"
   ]
  },
  {
   "cell_type": "code",
   "execution_count": null,
   "metadata": {},
   "outputs": [],
   "source": [
    "weather_df.describe()"
   ]
  },
  {
   "cell_type": "markdown",
   "metadata": {},
   "source": [
    "## Inspect the data and remove the cities where the humidity > 100%.\n",
    "----\n",
    "Skip this step if there are no cities that have humidity > 100%. "
   ]
  },
  {
   "cell_type": "code",
   "execution_count": null,
   "metadata": {},
   "outputs": [],
   "source": [
    "hum_100 = weather_df.loc[weather_df[\"Humidity\"] >= 100]\n",
    "hum_100"
   ]
  },
  {
   "cell_type": "code",
   "execution_count": null,
   "metadata": {},
   "outputs": [],
   "source": [
    "#  Get the indices of cities that have humidity over 100%.\n",
    "\n",
    "dropped = weather_df.drop(hum_100.index, inplace=False)\n",
    "dropped"
   ]
  },
  {
   "cell_type": "code",
   "execution_count": null,
   "metadata": {},
   "outputs": [],
   "source": [
    "# Make a new DataFrame equal to the city data to drop all humidity outliers by index.\n",
    "# Passing \"inplace=False\" will make a copy of the city_data DataFrame, which we call \"clean_city_data\".\n"
   ]
  },
  {
   "cell_type": "code",
   "execution_count": null,
   "metadata": {},
   "outputs": [],
   "source": [
    "\n"
   ]
  },
  {
   "cell_type": "markdown",
   "metadata": {},
   "source": [
    "## Plotting the Data\n",
    "* Use proper labeling of the plots using plot titles (including date of analysis) and axes labels.\n",
    "* Save the plotted figures as .pngs."
   ]
  },
  {
   "cell_type": "markdown",
   "metadata": {},
   "source": [
    "## Latitude vs. Temperature Plot"
   ]
  },
  {
   "cell_type": "code",
   "execution_count": null,
   "metadata": {
    "scrolled": true
   },
   "outputs": [],
   "source": [
    "x1 = weather_df[\"Latitude\"]\n",
    "y1 = weather_df[\"Max Temp\"]\n",
    "plt.scatter(x1, y1)\n",
    "\n",
    "plt.title(\"Latitude vs. Max Temp.\")\n",
    "plt.xlabel(\"Latitude\")\n",
    "plt.ylabel(\"Max Temp (F)\")\n",
    "plt.savefig(\"lat_vs_maxtemp\")"
   ]
  },
  {
   "cell_type": "markdown",
   "metadata": {},
   "source": [
    "## Latitude vs. Humidity Plot"
   ]
  },
  {
   "cell_type": "code",
   "execution_count": null,
   "metadata": {},
   "outputs": [],
   "source": [
    "x2 = weather_df[\"Latitude\"]\n",
    "y2 = weather_df[\"Humidity\"]\n",
    "plt.scatter(x2, y2)\n",
    "\n",
    "plt.title(\"Latitude vs. Humidity\")\n",
    "plt.xlabel(\"Latitude\")\n",
    "plt.ylabel(\"Humidity (%)\")\n",
    "plt.savefig(\"lat_vs_humidity\")"
   ]
  },
  {
   "cell_type": "markdown",
   "metadata": {},
   "source": [
    "## Latitude vs. Cloudiness Plot"
   ]
  },
  {
   "cell_type": "code",
   "execution_count": null,
   "metadata": {},
   "outputs": [],
   "source": [
    "x3 = weather_df[\"Latitude\"]\n",
    "y3 = weather_df[\"Cloudiness\"]\n",
    "plt.scatter(x3, y3)\n",
    "\n",
    "plt.title(\"Latitude vs. Cloudiness\")\n",
    "plt.xlabel(\"Latitude\")\n",
    "plt.ylabel(\"Cloudiness (%)\")\n",
    "plt.savefig(\"lat_vs_cloudiness\")"
   ]
  },
  {
   "cell_type": "markdown",
   "metadata": {},
   "source": [
    "## Latitude vs. Wind Speed Plot"
   ]
  },
  {
   "cell_type": "code",
   "execution_count": null,
   "metadata": {},
   "outputs": [],
   "source": [
    "x4 = weather_df[\"Latitude\"]\n",
    "y4 = weather_df[\"Wind Speed\"]\n",
    "plt.scatter(x4, y4)\n",
    "\n",
    "plt.title(\"Latitude vs. Wind Speed\")\n",
    "plt.xlabel(\"Latitude\")\n",
    "plt.ylabel(\"Wind Speed\")\n",
    "plt.savefig(\"lat_vs_windspeed\")"
   ]
  },
  {
   "cell_type": "markdown",
   "metadata": {},
   "source": [
    "## Linear Regression"
   ]
  },
  {
   "cell_type": "code",
   "execution_count": null,
   "metadata": {},
   "outputs": [],
   "source": [
    "north_df = weather_df.loc[weather_df[\"Latitude\"] > 0]\n",
    "north_df"
   ]
  },
  {
   "cell_type": "code",
   "execution_count": null,
   "metadata": {},
   "outputs": [],
   "source": [
    "south_df = weather_df.loc[weather_df[\"Latitude\"] < 0]\n",
    "south_df"
   ]
  },
  {
   "cell_type": "markdown",
   "metadata": {},
   "source": [
    "####  Northern Hemisphere - Max Temp vs. Latitude Linear Regression"
   ]
  },
  {
   "cell_type": "code",
   "execution_count": null,
   "metadata": {},
   "outputs": [],
   "source": [
    "x5 = north_df[\"Latitude\"]\n",
    "y5 = north_df[\"Max Temp\"]\n",
    "plt.scatter(x5, y5)\n",
    "\n",
    "plt.title(\"Latitude vs. Max Temp. (Northern Hemisphere)\")\n",
    "plt.xlabel(\"Latitude\")\n",
    "plt.ylabel(\"Max Temp (F)\")\n",
    "\n",
    "np.polyfit(x5, y5, 1)\n",
    "\n",
    "(slope, intercept, rvalue, pvalue, stderr) = linregress(x5, y5)\n",
    "slope, intercept\n",
    "\n",
    "predict = x5*slope + intercept\n",
    "predict\n",
    "\n",
    "line_eq = f\"y = {round(slope)}x + {round(intercept)}\"\n",
    "r_val = pearsonr(x5, y5)[0]\n",
    "r_sq =  r_val ** 2\n",
    "\n",
    "plt.plot(x5, predict, color=\"red\")\n",
    "plt.annotate(line_eq, (60, 70), color=\"red\")\n",
    "plt.annotate(f\"R-squared: {round(r_sq, 4)}\", (60,60), color=\"red\")\n",
    "\n",
    "plt.savefig(\"N_lat_vs_maxtemp\")"
   ]
  },
  {
   "cell_type": "markdown",
   "metadata": {},
   "source": [
    "####  Southern Hemisphere - Max Temp vs. Latitude Linear Regression"
   ]
  },
  {
   "cell_type": "code",
   "execution_count": null,
   "metadata": {},
   "outputs": [],
   "source": [
    "x6 = south_df[\"Latitude\"]\n",
    "y6 = south_df[\"Max Temp\"]\n",
    "plt.scatter(x6, y6)\n",
    "\n",
    "\n",
    "plt.title(\"Latitude vs. Max Temp. (Southern Hemisphere)\")\n",
    "plt.xlabel(\"Latitude\")\n",
    "plt.ylabel(\"Max Temp (F)\")\n",
    "\n",
    "np.polyfit(x6, y6, 1)\n",
    "\n",
    "(slope, intercept, rvalue, pvalue, stderr) = linregress(x6, y6)\n",
    "slope, intercept\n",
    "\n",
    "s_mt_lat_predict = x6*slope + intercept\n",
    "\n",
    "line_eq6 = f\"y = {round(slope)}x + {round(intercept)}\"\n",
    "r_val6 = pearsonr(x6, y6)[0]\n",
    "r_sq6 =  r_val6 ** 2\n",
    "\n",
    "plt.plot(x6, s_mt_lat_predict, color=\"red\")\n",
    "plt.annotate(line_eq6, (-50, 90), color=\"red\")\n",
    "plt.annotate(f\"R-squared: {round(r_sq6, 4)}\", (-50, 85), color=\"red\")\n",
    "\n",
    "plt.savefig(\"S_lat_vs_maxtemp\")"
   ]
  },
  {
   "cell_type": "markdown",
   "metadata": {},
   "source": [
    "####  Northern Hemisphere - Humidity (%) vs. Latitude Linear Regression"
   ]
  },
  {
   "cell_type": "code",
   "execution_count": null,
   "metadata": {},
   "outputs": [],
   "source": [
    "x7 = north_df[\"Latitude\"]\n",
    "y7 = north_df[\"Humidity\"]\n",
    "plt.scatter(x7, y7)\n",
    "\n",
    "plt.title(\"Latitude vs. Humidity (Northern Hemisphere)\")\n",
    "plt.xlabel(\"Latitude\")\n",
    "plt.ylabel(\"Humidity (%)\")\n",
    "\n",
    "np.polyfit(x7, y7, 1)\n",
    "\n",
    "(slope, intercept, rvalue, pvalue, stderr) = linregress(x7, y7)\n",
    "slope, intercept\n",
    "\n",
    "n_hum_lat_predict = x7*slope + intercept\n",
    "\n",
    "line_eq7 = f\"y = {round(slope)}x + {round(intercept)}\"\n",
    "r_val7 = pearsonr(x7, y7)[0]\n",
    "r_sq7 =  r_val7 ** 2\n",
    "\n",
    "plt.plot(x7, n_hum_lat_predict, color=\"red\")\n",
    "plt.annotate(line_eq7, (60, 20), color=\"red\")\n",
    "plt.annotate(f\"R-squared: {round(r_sq7, 4)}\", (60,10), color=\"red\")\n",
    "\n",
    "plt.savefig(\"N_lat_vs_humidity\")"
   ]
  },
  {
   "cell_type": "markdown",
   "metadata": {},
   "source": [
    "####  Southern Hemisphere - Humidity (%) vs. Latitude Linear Regression"
   ]
  },
  {
   "cell_type": "code",
   "execution_count": null,
   "metadata": {},
   "outputs": [],
   "source": [
    "x8 = south_df[\"Latitude\"]\n",
    "y8 = south_df[\"Humidity\"]\n",
    "plt.scatter(x8, y8)\n",
    "\n",
    "\n",
    "plt.title(\"Latitude vs. Humidity (Southern Hemisphere)\")\n",
    "plt.xlabel(\"Latitude\")\n",
    "plt.ylabel(\"Humidity (%)\")\n",
    "\n",
    "np.polyfit(x8, y8, 1)\n",
    "\n",
    "(slope, intercept, rvalue, pvalue, stderr) = linregress(x8, y8)\n",
    "slope, intercept\n",
    "\n",
    "s_hum_lat_predict = x8*slope + intercept\n",
    "\n",
    "line_eq8 = f\"y = {round(slope)}x + {round(intercept)}\"\n",
    "r_val8 = pearsonr(x8, y8)[0]\n",
    "r_sq8 =  r_val8 ** 2\n",
    "\n",
    "plt.plot(x8, s_hum_lat_predict, color=\"red\")\n",
    "plt.annotate(line_eq8, (-50, 100), color=\"red\")\n",
    "plt.annotate(f\"R-squared: {round(r_sq8, 4)}\", (-50, 95), color=\"red\")\n",
    "\n",
    "plt.savefig(\"S_lat_vs_humidity\")"
   ]
  },
  {
   "cell_type": "markdown",
   "metadata": {},
   "source": [
    "####  Northern Hemisphere - Cloudiness (%) vs. Latitude Linear Regression"
   ]
  },
  {
   "cell_type": "code",
   "execution_count": null,
   "metadata": {},
   "outputs": [],
   "source": [
    "x9 = north_df[\"Latitude\"]\n",
    "y9 = north_df[\"Cloudiness\"]\n",
    "plt.scatter(x9, y9)\n",
    "\n",
    "plt.title(\"Latitude vs. Cloudiness (Northern Hemisphere)\")\n",
    "plt.xlabel(\"Latitude\")\n",
    "plt.ylabel(\"Cloudiness (%)\")\n",
    "\n",
    "np.polyfit(x9, y9, 1)\n",
    "\n",
    "(slope, intercept, rvalue, pvalue, stderr) = linregress(x9, y9)\n",
    "slope, intercept\n",
    "\n",
    "n_cloud_lat_predict = x9*slope + intercept\n",
    "\n",
    "line_eq9 = f\"y = {round(slope)}x + {round(intercept)}\"\n",
    "r_val9 = pearsonr(x9, y9)[0]\n",
    "r_sq9 =  r_val9 ** 2\n",
    "\n",
    "plt.plot(x9, n_cloud_lat_predict, color=\"red\")\n",
    "plt.annotate(line_eq9, (60, 20), color=\"red\")\n",
    "plt.annotate(f\"R-squared: {round(r_sq9, 4)}\", (60,10), color=\"red\")\n",
    "\n",
    "plt.savefig(\"N_lat_vs_cloud\")"
   ]
  },
  {
   "cell_type": "markdown",
   "metadata": {},
   "source": [
    "####  Southern Hemisphere - Cloudiness (%) vs. Latitude Linear Regression"
   ]
  },
  {
   "cell_type": "code",
   "execution_count": null,
   "metadata": {},
   "outputs": [],
   "source": [
    "x10 = south_df[\"Latitude\"]\n",
    "y10 = south_df[\"Cloudiness\"]\n",
    "plt.scatter(x10, y10)\n",
    "\n",
    "\n",
    "plt.title(\"Latitude vs. Cloudiness (Southern Hemisphere)\")\n",
    "plt.xlabel(\"Latitude\")\n",
    "plt.ylabel(\"Cloudiness (%)\")\n",
    "\n",
    "np.polyfit(x10, y10, 1)\n",
    "\n",
    "(slope, intercept, rvalue, pvalue, stderr) = linregress(x10, y10)\n",
    "slope, intercept\n",
    "\n",
    "s_cloud_lat_predict = x10*slope + intercept\n",
    "\n",
    "line_eq10 = f\"y = {round(slope)}x + {round(intercept)}\"\n",
    "r_val10 = pearsonr(x10, y10)[0]\n",
    "r_sq10 =  r_val10 ** 2\n",
    "\n",
    "plt.plot(x10, s_cloud_lat_predict, color=\"red\")\n",
    "plt.annotate(line_eq10, (-50, 60), color=\"red\")\n",
    "plt.annotate(f\"R-squared: {round(r_sq10, 4)}\", (-50, 55), color=\"red\")\n",
    "\n",
    "plt.savefig(\"S_lat_vs_cloud\")"
   ]
  },
  {
   "cell_type": "markdown",
   "metadata": {},
   "source": [
    "####  Northern Hemisphere - Wind Speed (mph) vs. Latitude Linear Regression"
   ]
  },
  {
   "cell_type": "code",
   "execution_count": null,
   "metadata": {},
   "outputs": [],
   "source": [
    "x11 = north_df[\"Latitude\"]\n",
    "y11 = north_df[\"Wind Speed\"]\n",
    "plt.scatter(x11, y11)\n",
    "\n",
    "plt.title(\"Latitude vs. Wind Speed (Northern Hemisphere)\")\n",
    "plt.xlabel(\"Latitude\")\n",
    "plt.ylabel(\"Wind Speed (mph)\")\n",
    "\n",
    "np.polyfit(x11, y11, 1)\n",
    "\n",
    "(slope, intercept, rvalue, pvalue, stderr) = linregress(x11, y11)\n",
    "slope, intercept\n",
    "\n",
    "n_ws_lat_predict = x11*slope + intercept\n",
    "\n",
    "line_eq11 = f\"y = {round(slope)}x + {round(intercept)}\"\n",
    "r_val11 = pearsonr(x11, y11)[0]\n",
    "r_sq11 =  r_val11 ** 2\n",
    "\n",
    "plt.plot(x11, n_ws_lat_predict, color=\"red\")\n",
    "plt.annotate(line_eq11, (55, 30), color=\"red\")\n",
    "plt.annotate(f\"R-squared: {round(r_sq11, 4)}\", (55,27), color=\"red\")\n",
    "\n",
    "plt.savefig(\"N_lat_vs_ws\")"
   ]
  },
  {
   "cell_type": "markdown",
   "metadata": {},
   "source": [
    "####  Southern Hemisphere - Wind Speed (mph) vs. Latitude Linear Regression"
   ]
  },
  {
   "cell_type": "code",
   "execution_count": null,
   "metadata": {},
   "outputs": [],
   "source": [
    "x12 = south_df[\"Latitude\"]\n",
    "y12 = south_df[\"Wind Speed\"]\n",
    "plt.scatter(x12, y12)\n",
    "\n",
    "\n",
    "plt.title(\"Latitude vs. Cloudiness (Southern Hemisphere)\")\n",
    "plt.xlabel(\"Latitude\")\n",
    "plt.ylabel(\"Wind Speed (mph)\")\n",
    "\n",
    "np.polyfit(x12, y12, 1)\n",
    "\n",
    "(slope, intercept, rvalue, pvalue, stderr) = linregress(x12, y12)\n",
    "slope, intercept\n",
    "\n",
    "s_ws_lat_predict = x12*slope + intercept\n",
    "\n",
    "line_eq12 = f\"y = {round(slope)}x + {round(intercept)}\"\n",
    "r_val12 = pearsonr(x12, y12)[0]\n",
    "r_sq12 =  r_val12 ** 2\n",
    "\n",
    "plt.plot(x12, s_ws_lat_predict, color=\"red\")\n",
    "plt.annotate(line_eq12, (-20, 23), color=\"red\")\n",
    "plt.annotate(f\"R-squared: {round(r_sq12, 4)}\", (-20, 21), color=\"red\")\n",
    "\n",
    "plt.savefig(\"S_lat_vs_ws\")"
   ]
  },
  {
   "cell_type": "code",
   "execution_count": null,
   "metadata": {},
   "outputs": [],
   "source": []
  }
 ],
 "metadata": {
  "anaconda-cloud": {},
  "kernel_info": {
   "name": "python3"
  },
  "kernelspec": {
   "display_name": "Python [conda env:PythonData] *",
   "language": "python",
   "name": "conda-env-PythonData-py"
  },
  "language_info": {
   "codemirror_mode": {
    "name": "ipython",
    "version": 3
   },
   "file_extension": ".py",
   "mimetype": "text/x-python",
   "name": "python",
   "nbconvert_exporter": "python",
   "pygments_lexer": "ipython3",
   "version": "3.6.10"
  },
  "latex_envs": {
   "LaTeX_envs_menu_present": true,
   "autoclose": false,
   "autocomplete": true,
   "bibliofile": "biblio.bib",
   "cite_by": "apalike",
   "current_citInitial": 1,
   "eqLabelWithNumbers": true,
   "eqNumInitial": 1,
   "hotkeys": {
    "equation": "Ctrl-E",
    "itemize": "Ctrl-I"
   },
   "labels_anchors": false,
   "latex_user_defs": false,
   "report_style_numbering": false,
   "user_envs_cfg": false
  },
  "nteract": {
   "version": "0.12.3"
  }
 },
 "nbformat": 4,
 "nbformat_minor": 2
}
